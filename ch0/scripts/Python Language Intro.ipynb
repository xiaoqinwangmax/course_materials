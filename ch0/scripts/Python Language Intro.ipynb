{
 "cells": [
  {
   "cell_type": "markdown",
   "metadata": {},
   "source": [
    "Python Language Introduction\n",
    "======================="
   ]
  },
  {
   "cell_type": "code",
   "execution_count": 1,
   "metadata": {},
   "outputs": [],
   "source": [
    "# helper function to clear namespace:\n",
    "def _clear():\n",
    "    for thing in globals().keys():\n",
    "        if not thing.startswith(\"_\"):\n",
    "            del globals()[thing]"
   ]
  },
  {
   "cell_type": "code",
   "execution_count": 2,
   "metadata": {},
   "outputs": [],
   "source": [
    "# helper function to list non-underscore, non-Jupyter attributes\n",
    "def mydir():\n",
    "    return [a for a in sorted(globals())\n",
    "            if not (a.startswith('_') or a in 'In Out exit quit get_ipython mydir'.split())]"
   ]
  },
  {
   "cell_type": "markdown",
   "metadata": {},
   "source": [
    "Reference\n",
    "======\n",
    "* [Python Standard Library modules](http://www.doughellmann.com/PyMOTW/py-modindex.html)\n",
    "* [`builtin` functions and classes](http://docs.python.org/library/functions.html)\n",
    "* [Idiomatic Python](http://python.net/~goodger/projects/pycon/2007/idiomatic/handout.html)\n",
    "* Python Style Guides:\n",
    "    * [PEP 8](http://legacy.python.org/dev/peps/pep-0008/)\n",
    "    * [Google Python Style Guide](http://google-styleguide.googlecode.com/svn/trunk/pyguide.html)\n",
    "* Magic methods:\n",
    "    * [official specs](http://docs.python.org/reference/datamodel.html#special-method-names)\n",
    "    * [great summary](https://rszalski.github.io/magicmethods/)\n",
    "* [Scipy Lectures](http://www.scipy-lectures.org/)\n",
    "* [Numpy Tutorial](https://docs.scipy.org/doc/numpy-dev/user/quickstart.html)\n",
    "    * [Numpy for Matlab Users](https://docs.scipy.org/doc/numpy-dev/user/numpy-for-matlab-users.html)\n",
    "* [Matplotlib Plotting Tutorial](http://matplotlib.org/users/pyplot_tutorial.html)\n",
    "    * [gallery](http://matplotlib.org/gallery.html)"
   ]
  },
  {
   "cell_type": "markdown",
   "metadata": {},
   "source": [
    "Numbers, Strings, and Math\n",
    "=============="
   ]
  },
  {
   "cell_type": "code",
   "execution_count": 3,
   "metadata": {},
   "outputs": [
    {
     "data": {
      "text/plain": [
       "10"
      ]
     },
     "execution_count": 3,
     "metadata": {},
     "output_type": "execute_result"
    }
   ],
   "source": [
    "# basic math\n",
    "3 + 7"
   ]
  },
  {
   "cell_type": "code",
   "execution_count": 4,
   "metadata": {},
   "outputs": [
    {
     "data": {
      "text/plain": [
       "16272.0"
      ]
     },
     "execution_count": 4,
     "metadata": {},
     "output_type": "execute_result"
    }
   ],
   "source": [
    "# scientific notation\n",
    "2.4 * 6.78E3"
   ]
  },
  {
   "cell_type": "code",
   "execution_count": 5,
   "metadata": {},
   "outputs": [
    {
     "data": {
      "text/plain": [
       "1024"
      ]
     },
     "execution_count": 5,
     "metadata": {},
     "output_type": "execute_result"
    }
   ],
   "source": [
    "# exponentiation\n",
    "2**10"
   ]
  },
  {
   "cell_type": "code",
   "execution_count": 6,
   "metadata": {},
   "outputs": [
    {
     "data": {
      "text/plain": [
       "1048576"
      ]
     },
     "execution_count": 6,
     "metadata": {},
     "output_type": "execute_result"
    }
   ],
   "source": [
    "2**20"
   ]
  },
  {
   "cell_type": "code",
   "execution_count": 7,
   "metadata": {},
   "outputs": [
    {
     "data": {
      "text/plain": [
       "16"
      ]
     },
     "execution_count": 7,
     "metadata": {},
     "output_type": "execute_result"
    }
   ],
   "source": [
    "4**2 # four squared, 4 * 4"
   ]
  },
  {
   "cell_type": "code",
   "execution_count": 10,
   "metadata": {},
   "outputs": [
    {
     "data": {
      "text/plain": [
       "8.0"
      ]
     },
     "execution_count": 10,
     "metadata": {},
     "output_type": "execute_result"
    }
   ],
   "source": [
    "# Try your own mathematical expression\n",
    "64**(0.5)"
   ]
  },
  {
   "cell_type": "code",
   "execution_count": 11,
   "metadata": {},
   "outputs": [
    {
     "data": {
      "text/plain": [
       "'This is a short string'"
      ]
     },
     "execution_count": 11,
     "metadata": {},
     "output_type": "execute_result"
    }
   ],
   "source": [
    "# strings\n",
    "\"This is a short string\""
   ]
  },
  {
   "cell_type": "code",
   "execution_count": 12,
   "metadata": {},
   "outputs": [
    {
     "data": {
      "text/plain": [
       "'This string uses single quotes'"
      ]
     },
     "execution_count": 12,
     "metadata": {},
     "output_type": "execute_result"
    }
   ],
   "source": [
    "'This string uses single quotes'"
   ]
  },
  {
   "cell_type": "code",
   "execution_count": 13,
   "metadata": {},
   "outputs": [
    {
     "data": {
      "text/plain": [
       "'\\nThis is a multi-line string\\nwhich can be delimited by \\neither triple single quotes (\\')\\nor triple double quotes (\")\\n'"
      ]
     },
     "execution_count": 13,
     "metadata": {},
     "output_type": "execute_result"
    }
   ],
   "source": [
    "# long strings\n",
    "'''\n",
    "This is a multi-line string\n",
    "which can be delimited by \n",
    "either triple single quotes (')\n",
    "or triple double quotes (\")\n",
    "'''"
   ]
  },
  {
   "cell_type": "markdown",
   "metadata": {},
   "source": [
    "What do you think will happen if we try adding a string and an integer?\n",
    " \n",
    "<center><img src=\"http://templeofmut.files.wordpress.com/2012/03/transmogrifier_2.gif\">\n",
    "</center>"
   ]
  },
  {
   "cell_type": "code",
   "execution_count": 14,
   "metadata": {},
   "outputs": [
    {
     "ename": "TypeError",
     "evalue": "unsupported operand type(s) for +: 'int' and 'str'",
     "output_type": "error",
     "traceback": [
      "\u001b[0;31m---------------------------------------------------------------------------\u001b[0m",
      "\u001b[0;31mTypeError\u001b[0m                                 Traceback (most recent call last)",
      "\u001b[0;32m<ipython-input-14-cc9ac21e2193>\u001b[0m in \u001b[0;36m<module>\u001b[0;34m\u001b[0m\n\u001b[1;32m      1\u001b[0m \u001b[0;31m# experiment!\u001b[0m\u001b[0;34m\u001b[0m\u001b[0;34m\u001b[0m\u001b[0;34m\u001b[0m\u001b[0m\n\u001b[0;32m----> 2\u001b[0;31m \u001b[0;36m4\u001b[0m \u001b[0;34m+\u001b[0m \u001b[0;34m'6'\u001b[0m\u001b[0;34m\u001b[0m\u001b[0;34m\u001b[0m\u001b[0m\n\u001b[0m",
      "\u001b[0;31mTypeError\u001b[0m: unsupported operand type(s) for +: 'int' and 'str'"
     ]
    }
   ],
   "source": [
    "# experiment!\n",
    "4 + '6'"
   ]
  },
  {
   "cell_type": "code",
   "execution_count": 15,
   "metadata": {},
   "outputs": [
    {
     "data": {
      "text/plain": [
       "'FordPrefect'"
      ]
     },
     "execution_count": 15,
     "metadata": {},
     "output_type": "execute_result"
    }
   ],
   "source": [
    "# but what about adding strings?\n",
    "'Ford' + 'Prefect'"
   ]
  },
  {
   "cell_type": "code",
   "execution_count": 16,
   "metadata": {},
   "outputs": [],
   "source": [
    "#Try modifying this to add a space between the two"
   ]
  },
  {
   "cell_type": "code",
   "execution_count": 17,
   "metadata": {},
   "outputs": [
    {
     "data": {
      "text/plain": [
       "'FordFordFord'"
      ]
     },
     "execution_count": 17,
     "metadata": {},
     "output_type": "execute_result"
    }
   ],
   "source": [
    "# or multiplying strings?\n",
    "'Ford' * 3"
   ]
  },
  {
   "cell_type": "markdown",
   "metadata": {},
   "source": [
    "These are all **expressions** consisting of **literals** and **binary operators**"
   ]
  },
  {
   "cell_type": "markdown",
   "metadata": {},
   "source": [
    "References (aka *variables*)\n",
    "==============="
   ]
  },
  {
   "cell_type": "code",
   "execution_count": 18,
   "metadata": {},
   "outputs": [],
   "source": [
    "# expressions create objects which last as long as there is a reference to them\n",
    "a = 42"
   ]
  },
  {
   "cell_type": "code",
   "execution_count": 19,
   "metadata": {},
   "outputs": [
    {
     "data": {
      "text/plain": [
       "42"
      ]
     },
     "execution_count": 19,
     "metadata": {},
     "output_type": "execute_result"
    }
   ],
   "source": [
    "a"
   ]
  },
  {
   "cell_type": "code",
   "execution_count": 20,
   "metadata": {},
   "outputs": [
    {
     "data": {
      "text/plain": [
       "21.0"
      ]
     },
     "execution_count": 20,
     "metadata": {},
     "output_type": "execute_result"
    }
   ],
   "source": [
    "a / 2"
   ]
  },
  {
   "cell_type": "code",
   "execution_count": 21,
   "metadata": {},
   "outputs": [
    {
     "data": {
      "text/plain": [
       "52"
      ]
     },
     "execution_count": 21,
     "metadata": {},
     "output_type": "execute_result"
    }
   ],
   "source": [
    "a + 10"
   ]
  },
  {
   "cell_type": "code",
   "execution_count": 22,
   "metadata": {},
   "outputs": [],
   "source": [
    "b = a"
   ]
  },
  {
   "cell_type": "code",
   "execution_count": 23,
   "metadata": {},
   "outputs": [
    {
     "data": {
      "text/plain": [
       "42"
      ]
     },
     "execution_count": 23,
     "metadata": {},
     "output_type": "execute_result"
    }
   ],
   "source": [
    "b"
   ]
  },
  {
   "cell_type": "code",
   "execution_count": 26,
   "metadata": {},
   "outputs": [],
   "source": [
    "c = a + 10"
   ]
  },
  {
   "cell_type": "code",
   "execution_count": 27,
   "metadata": {},
   "outputs": [
    {
     "data": {
      "text/plain": [
       "int"
      ]
     },
     "execution_count": 27,
     "metadata": {},
     "output_type": "execute_result"
    }
   ],
   "source": [
    "type(a)"
   ]
  },
  {
   "cell_type": "code",
   "execution_count": 28,
   "metadata": {},
   "outputs": [
    {
     "data": {
      "text/plain": [
       "int"
      ]
     },
     "execution_count": 28,
     "metadata": {},
     "output_type": "execute_result"
    }
   ],
   "source": [
    "type(b)"
   ]
  },
  {
   "cell_type": "code",
   "execution_count": 29,
   "metadata": {},
   "outputs": [
    {
     "data": {
      "text/plain": [
       "True"
      ]
     },
     "execution_count": 29,
     "metadata": {},
     "output_type": "execute_result"
    }
   ],
   "source": [
    "a == b"
   ]
  },
  {
   "cell_type": "code",
   "execution_count": 30,
   "metadata": {},
   "outputs": [
    {
     "data": {
      "text/plain": [
       "False"
      ]
     },
     "execution_count": 30,
     "metadata": {},
     "output_type": "execute_result"
    }
   ],
   "source": [
    "a > c"
   ]
  },
  {
   "cell_type": "markdown",
   "metadata": {},
   "source": [
    "* these are typically called \"variables\", but a better name in Python is \"reference\"\n",
    "* a \"reference\" refers to an object\n",
    "* objects are Autonomous (no scope, heap allocated) and Anonymous (no name)\n",
    "* only references have a scope\n",
    "* references can be re-assigned to a new object at any time\n",
    "* allowed to have multiple references to the same object"
   ]
  },
  {
   "cell_type": "markdown",
   "metadata": {},
   "source": [
    "Lists\n",
    "===\n",
    "* lists preserve order\n",
    "* have no constraint on duplicate entries\n",
    "* can be changed, reordered, added to, or removed from\n",
    "* IMPORTANT: really just contain a collection of \"unnamed\" references, not objects"
   ]
  },
  {
   "cell_type": "code",
   "execution_count": 32,
   "metadata": {},
   "outputs": [],
   "source": [
    "nums   = [3, 7, 6, -1, 3, 0, 3, -8, 4, 6, 5]\n",
    "fruit  = ['banana', 'grape', 'apple', 'orange']"
   ]
  },
  {
   "cell_type": "code",
   "execution_count": 33,
   "metadata": {},
   "outputs": [
    {
     "data": {
      "text/plain": [
       "[3, 7, 6, -1, 3, 0, 3, -8, 4, 6, 5]"
      ]
     },
     "execution_count": 33,
     "metadata": {},
     "output_type": "execute_result"
    }
   ],
   "source": [
    "nums"
   ]
  },
  {
   "cell_type": "code",
   "execution_count": 34,
   "metadata": {},
   "outputs": [
    {
     "data": {
      "text/plain": [
       "list"
      ]
     },
     "execution_count": 34,
     "metadata": {},
     "output_type": "execute_result"
    }
   ],
   "source": [
    "# function calls! type names!\n",
    "type(nums)"
   ]
  },
  {
   "cell_type": "code",
   "execution_count": 35,
   "metadata": {},
   "outputs": [
    {
     "data": {
      "text/plain": [
       "list"
      ]
     },
     "execution_count": 35,
     "metadata": {},
     "output_type": "execute_result"
    }
   ],
   "source": [
    "type(fruit)"
   ]
  },
  {
   "cell_type": "code",
   "execution_count": 36,
   "metadata": {},
   "outputs": [
    {
     "data": {
      "text/plain": [
       "4"
      ]
     },
     "execution_count": 36,
     "metadata": {},
     "output_type": "execute_result"
    }
   ],
   "source": [
    "len(fruit)"
   ]
  },
  {
   "cell_type": "code",
   "execution_count": 37,
   "metadata": {},
   "outputs": [
    {
     "data": {
      "text/plain": [
       "'banana'"
      ]
     },
     "execution_count": 37,
     "metadata": {},
     "output_type": "execute_result"
    }
   ],
   "source": [
    "# referencing FROM ZERO\n",
    "fruit[0]"
   ]
  },
  {
   "cell_type": "code",
   "execution_count": 38,
   "metadata": {},
   "outputs": [
    {
     "data": {
      "text/plain": [
       "'orange'"
      ]
     },
     "execution_count": 38,
     "metadata": {},
     "output_type": "execute_result"
    }
   ],
   "source": [
    "# can also index from the end\n",
    "fruit[-1]"
   ]
  },
  {
   "cell_type": "code",
   "execution_count": 79,
   "metadata": {},
   "outputs": [],
   "source": [
    "# if you have a list of \"words\" delimited by whitespace this is a common way to make a list:\n",
    "# create a string literal, then call the .split() method on it\n",
    "colors = 'red green blue yellow white orange pink'.split()"
   ]
  },
  {
   "cell_type": "code",
   "execution_count": 80,
   "metadata": {},
   "outputs": [
    {
     "data": {
      "text/plain": [
       "['red', 'green', 'blue', 'yellow', 'white', 'orange', 'pink']"
      ]
     },
     "execution_count": 80,
     "metadata": {},
     "output_type": "execute_result"
    }
   ],
   "source": [
    "colors"
   ]
  },
  {
   "cell_type": "code",
   "execution_count": 81,
   "metadata": {},
   "outputs": [
    {
     "data": {
      "text/plain": [
       "True"
      ]
     },
     "execution_count": 81,
     "metadata": {},
     "output_type": "execute_result"
    }
   ],
   "source": [
    "# Membership tests\n",
    "'green' in colors"
   ]
  },
  {
   "cell_type": "code",
   "execution_count": 82,
   "metadata": {},
   "outputs": [
    {
     "data": {
      "text/plain": [
       "False"
      ]
     },
     "execution_count": 82,
     "metadata": {},
     "output_type": "execute_result"
    }
   ],
   "source": [
    "'fuscia' in colors"
   ]
  },
  {
   "cell_type": "code",
   "execution_count": 83,
   "metadata": {},
   "outputs": [
    {
     "data": {
      "text/plain": [
       "False"
      ]
     },
     "execution_count": 83,
     "metadata": {},
     "output_type": "execute_result"
    }
   ],
   "source": [
    "# case sensitive?\n",
    "'GREEN' in colors"
   ]
  },
  {
   "cell_type": "code",
   "execution_count": 84,
   "metadata": {},
   "outputs": [],
   "source": [
    "# we'll come back to that later"
   ]
  },
  {
   "cell_type": "code",
   "execution_count": 85,
   "metadata": {},
   "outputs": [
    {
     "data": {
      "text/plain": [
       "True"
      ]
     },
     "execution_count": 85,
     "metadata": {},
     "output_type": "execute_result"
    }
   ],
   "source": [
    "# and speaking of membership test \"in\", that can be used on strings as well:\n",
    "'day' in 'Today is Friday'"
   ]
  },
  {
   "cell_type": "code",
   "execution_count": 86,
   "metadata": {},
   "outputs": [
    {
     "data": {
      "text/plain": [
       "False"
      ]
     },
     "execution_count": 86,
     "metadata": {},
     "output_type": "execute_result"
    }
   ],
   "source": [
    "'green' in 'Today is Friday'"
   ]
  },
  {
   "cell_type": "code",
   "execution_count": 87,
   "metadata": {},
   "outputs": [
    {
     "data": {
      "text/plain": [
       "'red'"
      ]
     },
     "execution_count": 87,
     "metadata": {},
     "output_type": "execute_result"
    }
   ],
   "source": [
    "colors[0]"
   ]
  },
  {
   "cell_type": "code",
   "execution_count": 88,
   "metadata": {},
   "outputs": [
    {
     "data": {
      "text/plain": [
       "'green'"
      ]
     },
     "execution_count": 88,
     "metadata": {},
     "output_type": "execute_result"
    }
   ],
   "source": [
    "colors[1]"
   ]
  },
  {
   "cell_type": "code",
   "execution_count": 89,
   "metadata": {},
   "outputs": [],
   "source": [
    "# try to get the third color \"blue\" from this list via indexed lookup"
   ]
  },
  {
   "cell_type": "markdown",
   "metadata": {},
   "source": [
    "If you got back 'yellow', remember how we start counting for the indexes in Python.\n",
    "\n",
    "This is a \"computer science\" thing related to the \"index\" value being an offset from the start of the list.\n",
    "\n",
    "* index zero means \"offset zero from the start of the list to find the first item\"\n",
    "* index one means \"offset once from the start of the list to find the second item\""
   ]
  },
  {
   "cell_type": "code",
   "execution_count": 90,
   "metadata": {},
   "outputs": [],
   "source": [
    "# negative indexing (\"back from end\")"
   ]
  },
  {
   "cell_type": "code",
   "execution_count": 91,
   "metadata": {},
   "outputs": [
    {
     "data": {
      "text/plain": [
       "'orange'"
      ]
     },
     "execution_count": 91,
     "metadata": {},
     "output_type": "execute_result"
    }
   ],
   "source": [
    "colors[-2]"
   ]
  },
  {
   "cell_type": "code",
   "execution_count": 92,
   "metadata": {},
   "outputs": [],
   "source": [
    "# try to get the third color \"blue\" again, but this time using negative indexing"
   ]
  },
  {
   "cell_type": "code",
   "execution_count": 93,
   "metadata": {},
   "outputs": [
    {
     "data": {
      "text/plain": [
       "7"
      ]
     },
     "execution_count": 93,
     "metadata": {},
     "output_type": "execute_result"
    }
   ],
   "source": [
    "len(colors)"
   ]
  },
  {
   "cell_type": "code",
   "execution_count": 94,
   "metadata": {},
   "outputs": [
    {
     "ename": "IndexError",
     "evalue": "list index out of range",
     "output_type": "error",
     "traceback": [
      "\u001b[0;31m---------------------------------------------------------------------------\u001b[0m",
      "\u001b[0;31mIndexError\u001b[0m                                Traceback (most recent call last)",
      "\u001b[0;32m<ipython-input-94-ecfcdbf56cb0>\u001b[0m in \u001b[0;36m<module>\u001b[0;34m\u001b[0m\n\u001b[1;32m      1\u001b[0m \u001b[0;31m# WAIT: Make a prediction what you're going to get from this before you execute it\u001b[0m\u001b[0;34m\u001b[0m\u001b[0;34m\u001b[0m\u001b[0;34m\u001b[0m\u001b[0m\n\u001b[0;32m----> 2\u001b[0;31m \u001b[0mcolors\u001b[0m\u001b[0;34m[\u001b[0m\u001b[0mlen\u001b[0m\u001b[0;34m(\u001b[0m\u001b[0mcolors\u001b[0m\u001b[0;34m)\u001b[0m\u001b[0;34m]\u001b[0m\u001b[0;34m\u001b[0m\u001b[0;34m\u001b[0m\u001b[0m\n\u001b[0m",
      "\u001b[0;31mIndexError\u001b[0m: list index out of range"
     ]
    }
   ],
   "source": [
    "# WAIT: Make a prediction what you're going to get from this before you execute it\n",
    "colors[len(colors)]"
   ]
  },
  {
   "cell_type": "code",
   "execution_count": 95,
   "metadata": {},
   "outputs": [
    {
     "ename": "IndexError",
     "evalue": "list index out of range",
     "output_type": "error",
     "traceback": [
      "\u001b[0;31m---------------------------------------------------------------------------\u001b[0m",
      "\u001b[0;31mIndexError\u001b[0m                                Traceback (most recent call last)",
      "\u001b[0;32m<ipython-input-95-53a387aa9624>\u001b[0m in \u001b[0;36m<module>\u001b[0;34m\u001b[0m\n\u001b[0;32m----> 1\u001b[0;31m \u001b[0mcolors\u001b[0m\u001b[0;34m[\u001b[0m\u001b[0;36m7\u001b[0m\u001b[0;34m]\u001b[0m\u001b[0;34m\u001b[0m\u001b[0;34m\u001b[0m\u001b[0m\n\u001b[0m",
      "\u001b[0;31mIndexError\u001b[0m: list index out of range"
     ]
    }
   ],
   "source": [
    "colors[7]"
   ]
  },
  {
   "cell_type": "code",
   "execution_count": 96,
   "metadata": {},
   "outputs": [],
   "source": [
    "# selecting a subset of objects from a list (NOTE: last index is not included)"
   ]
  },
  {
   "cell_type": "code",
   "execution_count": 97,
   "metadata": {},
   "outputs": [
    {
     "data": {
      "text/plain": [
       "['red', 'green', 'blue', 'yellow', 'white', 'orange', 'pink']"
      ]
     },
     "execution_count": 97,
     "metadata": {},
     "output_type": "execute_result"
    }
   ],
   "source": [
    "colors"
   ]
  },
  {
   "cell_type": "code",
   "execution_count": 98,
   "metadata": {},
   "outputs": [
    {
     "data": {
      "text/plain": [
       "['blue', 'yellow']"
      ]
     },
     "execution_count": 98,
     "metadata": {},
     "output_type": "execute_result"
    }
   ],
   "source": [
    "colors[2:4]"
   ]
  },
  {
   "cell_type": "code",
   "execution_count": 99,
   "metadata": {},
   "outputs": [
    {
     "data": {
      "text/plain": [
       "['banana', 'grape', 'apple']"
      ]
     },
     "execution_count": 99,
     "metadata": {},
     "output_type": "execute_result"
    }
   ],
   "source": [
    "fruit[0:3]"
   ]
  },
  {
   "cell_type": "code",
   "execution_count": 100,
   "metadata": {},
   "outputs": [
    {
     "data": {
      "text/plain": [
       "['yellow', 'white', 'orange']"
      ]
     },
     "execution_count": 100,
     "metadata": {},
     "output_type": "execute_result"
    }
   ],
   "source": [
    "colors[-4:-1]"
   ]
  },
  {
   "cell_type": "code",
   "execution_count": 101,
   "metadata": {},
   "outputs": [
    {
     "data": {
      "text/plain": [
       "['yellow', 'white', 'orange', 'pink']"
      ]
     },
     "execution_count": 101,
     "metadata": {},
     "output_type": "execute_result"
    }
   ],
   "source": [
    "# defaults exist for the start and end of the range, if it isn't specified\n",
    "colors[3:]"
   ]
  },
  {
   "cell_type": "code",
   "execution_count": 102,
   "metadata": {},
   "outputs": [
    {
     "data": {
      "text/plain": [
       "['yellow', 'white', 'orange', 'pink']"
      ]
     },
     "execution_count": 102,
     "metadata": {},
     "output_type": "execute_result"
    }
   ],
   "source": [
    "colors[3:7]"
   ]
  },
  {
   "cell_type": "code",
   "execution_count": 103,
   "metadata": {},
   "outputs": [
    {
     "data": {
      "text/plain": [
       "['red', 'green', 'blue']"
      ]
     },
     "execution_count": 103,
     "metadata": {},
     "output_type": "execute_result"
    }
   ],
   "source": [
    "# first three\n",
    "colors[:3]"
   ]
  },
  {
   "cell_type": "code",
   "execution_count": 104,
   "metadata": {},
   "outputs": [],
   "source": [
    "# can update lists by writing to a particular location\n",
    "colors[3] = 'mauve'"
   ]
  },
  {
   "cell_type": "code",
   "execution_count": 105,
   "metadata": {},
   "outputs": [
    {
     "data": {
      "text/plain": [
       "['red', 'green', 'blue', 'mauve', 'white', 'orange', 'pink']"
      ]
     },
     "execution_count": 105,
     "metadata": {},
     "output_type": "execute_result"
    }
   ],
   "source": [
    "colors"
   ]
  },
  {
   "cell_type": "code",
   "execution_count": 106,
   "metadata": {},
   "outputs": [],
   "source": [
    "# we can grow lists by appending a new entry onto it\n",
    "colors.append('purple')"
   ]
  },
  {
   "cell_type": "code",
   "execution_count": 107,
   "metadata": {},
   "outputs": [
    {
     "data": {
      "text/plain": [
       "['red', 'green', 'blue', 'mauve', 'white', 'orange', 'pink', 'purple']"
      ]
     },
     "execution_count": 107,
     "metadata": {},
     "output_type": "execute_result"
    }
   ],
   "source": [
    "colors"
   ]
  },
  {
   "cell_type": "code",
   "execution_count": 108,
   "metadata": {},
   "outputs": [
    {
     "data": {
      "text/plain": [
       "'purple'"
      ]
     },
     "execution_count": 108,
     "metadata": {},
     "output_type": "execute_result"
    }
   ],
   "source": [
    "# we can remove entries from a list a few different ways\n",
    "# .pop() will remove and return the last entry\n",
    "colors.pop()"
   ]
  },
  {
   "cell_type": "code",
   "execution_count": 109,
   "metadata": {},
   "outputs": [
    {
     "data": {
      "text/plain": [
       "['red', 'green', 'blue', 'mauve', 'white', 'orange', 'pink']"
      ]
     },
     "execution_count": 109,
     "metadata": {},
     "output_type": "execute_result"
    }
   ],
   "source": [
    "colors"
   ]
  },
  {
   "cell_type": "code",
   "execution_count": 110,
   "metadata": {},
   "outputs": [
    {
     "data": {
      "text/plain": [
       "'white'"
      ]
     },
     "execution_count": 110,
     "metadata": {},
     "output_type": "execute_result"
    }
   ],
   "source": [
    "colors[4]"
   ]
  },
  {
   "cell_type": "code",
   "execution_count": 111,
   "metadata": {},
   "outputs": [],
   "source": [
    "# we can also use a \"del\" statement to delete the entry directly\n",
    "del colors[4]"
   ]
  },
  {
   "cell_type": "code",
   "execution_count": 112,
   "metadata": {},
   "outputs": [
    {
     "data": {
      "text/plain": [
       "['red', 'green', 'blue', 'mauve', 'orange', 'pink']"
      ]
     },
     "execution_count": 112,
     "metadata": {},
     "output_type": "execute_result"
    }
   ],
   "source": [
    "colors"
   ]
  },
  {
   "cell_type": "code",
   "execution_count": 113,
   "metadata": {},
   "outputs": [],
   "source": [
    "shades = 'white smoke grey charcoal black'.split()"
   ]
  },
  {
   "cell_type": "code",
   "execution_count": 114,
   "metadata": {},
   "outputs": [
    {
     "data": {
      "text/plain": [
       "['white', 'smoke', 'grey', 'charcoal', 'black']"
      ]
     },
     "execution_count": 114,
     "metadata": {},
     "output_type": "execute_result"
    }
   ],
   "source": [
    "shades"
   ]
  },
  {
   "cell_type": "code",
   "execution_count": 115,
   "metadata": {},
   "outputs": [
    {
     "data": {
      "text/plain": [
       "['red',\n",
       " 'green',\n",
       " 'blue',\n",
       " 'mauve',\n",
       " 'orange',\n",
       " 'pink',\n",
       " 'white',\n",
       " 'smoke',\n",
       " 'grey',\n",
       " 'charcoal',\n",
       " 'black']"
      ]
     },
     "execution_count": 115,
     "metadata": {},
     "output_type": "execute_result"
    }
   ],
   "source": [
    "# we can also combine lists in a few different ways\n",
    "colors + shades"
   ]
  },
  {
   "cell_type": "code",
   "execution_count": 116,
   "metadata": {},
   "outputs": [
    {
     "data": {
      "text/plain": [
       "['red', 'green', 'blue', 'mauve', 'orange', 'pink']"
      ]
     },
     "execution_count": 116,
     "metadata": {},
     "output_type": "execute_result"
    }
   ],
   "source": [
    "# did this change colors or shades?\n",
    "colors"
   ]
  },
  {
   "cell_type": "code",
   "execution_count": 117,
   "metadata": {},
   "outputs": [],
   "source": [
    "# we can also extend an existing list by another list\n",
    "colors.extend(shades)"
   ]
  },
  {
   "cell_type": "code",
   "execution_count": 118,
   "metadata": {},
   "outputs": [
    {
     "data": {
      "text/plain": [
       "['red',\n",
       " 'green',\n",
       " 'blue',\n",
       " 'mauve',\n",
       " 'orange',\n",
       " 'pink',\n",
       " 'white',\n",
       " 'smoke',\n",
       " 'grey',\n",
       " 'charcoal',\n",
       " 'black']"
      ]
     },
     "execution_count": 118,
     "metadata": {},
     "output_type": "execute_result"
    }
   ],
   "source": [
    "# what do you think colors looks like now?\n",
    "colors"
   ]
  },
  {
   "cell_type": "code",
   "execution_count": 119,
   "metadata": {},
   "outputs": [],
   "source": [
    "# lists have other methods that operate on the state of the list object\n",
    "colors.sort()"
   ]
  },
  {
   "cell_type": "code",
   "execution_count": 123,
   "metadata": {},
   "outputs": [
    {
     "data": {
      "text/plain": [
       "['black',\n",
       " 'blue',\n",
       " 'charcoal',\n",
       " 'green',\n",
       " 'grey',\n",
       " 'mauve',\n",
       " 'orange',\n",
       " 'pink',\n",
       " 'red',\n",
       " 'smoke',\n",
       " 'white']"
      ]
     },
     "execution_count": 123,
     "metadata": {},
     "output_type": "execute_result"
    }
   ],
   "source": [
    "colors"
   ]
  },
  {
   "cell_type": "code",
   "execution_count": 124,
   "metadata": {},
   "outputs": [
    {
     "data": {
      "text/plain": [
       "['banana', 'grape', 'apple', 'orange']"
      ]
     },
     "execution_count": 124,
     "metadata": {},
     "output_type": "execute_result"
    }
   ],
   "source": [
    "fruit"
   ]
  },
  {
   "cell_type": "code",
   "execution_count": 125,
   "metadata": {},
   "outputs": [],
   "source": [
    "shopping = 'milk sugar eggs'.split()"
   ]
  },
  {
   "cell_type": "code",
   "execution_count": 126,
   "metadata": {},
   "outputs": [
    {
     "data": {
      "text/plain": [
       "['milk', 'sugar', 'eggs']"
      ]
     },
     "execution_count": 126,
     "metadata": {},
     "output_type": "execute_result"
    }
   ],
   "source": [
    "shopping"
   ]
  },
  {
   "cell_type": "code",
   "execution_count": 127,
   "metadata": {},
   "outputs": [],
   "source": [
    "# what do you think this would do?\n",
    "shopping.append(fruit)"
   ]
  },
  {
   "cell_type": "markdown",
   "metadata": {},
   "source": [
    "Looping\n",
    "===="
   ]
  },
  {
   "cell_type": "code",
   "execution_count": 128,
   "metadata": {},
   "outputs": [
    {
     "name": "stdout",
     "output_type": "stream",
     "text": [
      "color is black\n",
      "color is blue\n",
      "color is charcoal\n",
      "color is green\n",
      "color is grey\n",
      "color is mauve\n",
      "color is orange\n",
      "color is pink\n",
      "color is red\n",
      "color is smoke\n",
      "color is white\n"
     ]
    }
   ],
   "source": [
    "# indentation, scoping, print() function\n",
    "for c in colors:\n",
    "    print(f'color is {c}')"
   ]
  },
  {
   "cell_type": "code",
   "execution_count": 133,
   "metadata": {},
   "outputs": [
    {
     "name": "stdout",
     "output_type": "stream",
     "text": [
      "START\n",
      "[3, 7, 6, -1, 3, 0, 3, -8, 4, 6, 5]\n",
      "x\ttotal\ty\tz\n",
      "3\t3\t33\t83\n",
      "7\t10\t73\t179\n",
      "6\t16\t63\t155\n",
      "-1\t15\t-7\t-13\n",
      "3\t18\t33\t83\n",
      "0\t18\t3\t11\n",
      "3\t21\t33\t83\n",
      "-8\t13\t-77\t-181\n",
      "4\t17\t43\t107\n",
      "6\t23\t63\t155\n",
      "5\t28\t53\t131\n",
      "END\n"
     ]
    }
   ],
   "source": [
    "print('START')\n",
    "print(nums)\n",
    "\n",
    "total = 0\n",
    "\n",
    "print('\\t'.join('x total y z'.split()))\n",
    "\n",
    "for x in nums:\n",
    "    total = total + x\n",
    "    y     = 10*x + 3\n",
    "    z     = 4*x + 2*y + 5\n",
    "    print(f'{x}\\t{total}\\t{y}\\t{z}')\n",
    "    \n",
    "print('END')"
   ]
  },
  {
   "cell_type": "markdown",
   "metadata": {},
   "source": [
    "Conditionals\n",
    "==========\n",
    "We can use `if/elif/else` conditional statement to evaluate _boolean expressions_ using a combination of `and/or/not` and `> >= == <= <` operators."
   ]
  },
  {
   "cell_type": "code",
   "execution_count": 218,
   "metadata": {},
   "outputs": [],
   "source": [
    "x = 42"
   ]
  },
  {
   "cell_type": "code",
   "execution_count": 217,
   "metadata": {},
   "outputs": [
    {
     "name": "stdout",
     "output_type": "stream",
     "text": [
      "15 small\n"
     ]
    }
   ],
   "source": [
    "if x > 40:\n",
    "    y = 'big'\n",
    "else:\n",
    "    y = 'small'\n",
    "    \n",
    "print(x,y)"
   ]
  },
  {
   "cell_type": "code",
   "execution_count": 221,
   "metadata": {},
   "outputs": [
    {
     "name": "stdout",
     "output_type": "stream",
     "text": [
      "B color blue with big 42\n"
     ]
    }
   ],
   "source": [
    "x = 42\n",
    "c = 'blue'\n",
    "\n",
    "if c.startswith('b') and x > 40:\n",
    "    print(f'B color {c} with big {x}')\n",
    "else:\n",
    "    print(f'normal color {c} with {x}')"
   ]
  },
  {
   "cell_type": "code",
   "execution_count": 223,
   "metadata": {},
   "outputs": [
    {
     "name": "stdout",
     "output_type": "stream",
     "text": [
      "P color purple with 100\n"
     ]
    }
   ],
   "source": [
    "x = 100\n",
    "c = 'purple'\n",
    "\n",
    "if c.startswith('b') and x > 40:\n",
    "    print(f'B color {c} with big {x}')\n",
    "elif c.startswith('p'):\n",
    "    print(f'P color {c} with {x}')\n",
    "else:\n",
    "    print(f'normal color {c} with {x}')"
   ]
  },
  {
   "cell_type": "markdown",
   "metadata": {},
   "source": [
    "List Comprehensions\n",
    "=================\n",
    "Python provides very compact ways to generate a new list from an existing list (or iterable)"
   ]
  },
  {
   "cell_type": "code",
   "execution_count": 134,
   "metadata": {},
   "outputs": [],
   "source": [
    "first = colors[0]"
   ]
  },
  {
   "cell_type": "code",
   "execution_count": 135,
   "metadata": {},
   "outputs": [
    {
     "data": {
      "text/plain": [
       "'black'"
      ]
     },
     "execution_count": 135,
     "metadata": {},
     "output_type": "execute_result"
    }
   ],
   "source": [
    "first"
   ]
  },
  {
   "cell_type": "code",
   "execution_count": 136,
   "metadata": {},
   "outputs": [
    {
     "data": {
      "text/plain": [
       "'BLACK'"
      ]
     },
     "execution_count": 136,
     "metadata": {},
     "output_type": "execute_result"
    }
   ],
   "source": [
    "# strings have a method .upper() that will generate the upper case version of themselves\n",
    "first.upper()"
   ]
  },
  {
   "cell_type": "code",
   "execution_count": 137,
   "metadata": {},
   "outputs": [
    {
     "name": "stdout",
     "output_type": "stream",
     "text": [
      "BLACK\n",
      "BLUE\n",
      "CHARCOAL\n",
      "GREEN\n",
      "GREY\n",
      "MAUVE\n",
      "ORANGE\n",
      "PINK\n",
      "RED\n",
      "SMOKE\n",
      "WHITE\n"
     ]
    }
   ],
   "source": [
    "for c in colors:\n",
    "    print(c.upper())"
   ]
  },
  {
   "cell_type": "code",
   "execution_count": 138,
   "metadata": {},
   "outputs": [
    {
     "data": {
      "text/plain": [
       "['BLACK',\n",
       " 'BLUE',\n",
       " 'CHARCOAL',\n",
       " 'GREEN',\n",
       " 'GREY',\n",
       " 'MAUVE',\n",
       " 'ORANGE',\n",
       " 'PINK',\n",
       " 'RED',\n",
       " 'SMOKE',\n",
       " 'WHITE']"
      ]
     },
     "execution_count": 138,
     "metadata": {},
     "output_type": "execute_result"
    }
   ],
   "source": [
    "loop_colors = []\n",
    "for c in colors:\n",
    "    loop_colors.append(c.upper())\n",
    "loop_colors"
   ]
  },
  {
   "cell_type": "code",
   "execution_count": 139,
   "metadata": {},
   "outputs": [
    {
     "data": {
      "text/plain": [
       "['BLACK',\n",
       " 'BLUE',\n",
       " 'CHARCOAL',\n",
       " 'GREEN',\n",
       " 'GREY',\n",
       " 'MAUVE',\n",
       " 'ORANGE',\n",
       " 'PINK',\n",
       " 'RED',\n",
       " 'SMOKE',\n",
       " 'WHITE']"
      ]
     },
     "execution_count": 139,
     "metadata": {},
     "output_type": "execute_result"
    }
   ],
   "source": [
    "# We do this sort of thing so frequently\n",
    "# that Python gives us a List comprehension expression to achieve the same thing\n",
    "upper_colors = [c.upper() for c in colors]\n",
    "upper_colors"
   ]
  },
  {
   "cell_type": "code",
   "execution_count": 140,
   "metadata": {},
   "outputs": [],
   "source": [
    "# Try this for \"fruit\""
   ]
  },
  {
   "cell_type": "code",
   "execution_count": 141,
   "metadata": {},
   "outputs": [],
   "source": [
    "# BONUS: Try this for adding 10 to each entry in \"nums\""
   ]
  },
  {
   "cell_type": "markdown",
   "metadata": {},
   "source": [
    "Functions\n",
    "====="
   ]
  },
  {
   "cell_type": "code",
   "execution_count": 142,
   "metadata": {},
   "outputs": [],
   "source": [
    "# double\n",
    "def double(x):\n",
    "    ' a function that doubles the input value '\n",
    "    print(f'function double called with x:{x}')\n",
    "    result = x*2\n",
    "    print(f'\\tcalculated result:{result}')    \n",
    "    return result"
   ]
  },
  {
   "cell_type": "code",
   "execution_count": 143,
   "metadata": {},
   "outputs": [
    {
     "data": {
      "text/plain": [
       "<function __main__.double(x)>"
      ]
     },
     "execution_count": 143,
     "metadata": {},
     "output_type": "execute_result"
    }
   ],
   "source": [
    "# what do we get if we just reference the function object directly?\n",
    "double"
   ]
  },
  {
   "cell_type": "code",
   "execution_count": 144,
   "metadata": {},
   "outputs": [
    {
     "name": "stdout",
     "output_type": "stream",
     "text": [
      "function double called with x:7\n",
      "\tcalculated result:14\n"
     ]
    },
    {
     "data": {
      "text/plain": [
       "14"
      ]
     },
     "execution_count": 144,
     "metadata": {},
     "output_type": "execute_result"
    }
   ],
   "source": [
    "# what do we think is going to happen when we call the function?\n",
    "double(7)"
   ]
  },
  {
   "cell_type": "code",
   "execution_count": 145,
   "metadata": {},
   "outputs": [
    {
     "name": "stdout",
     "output_type": "stream",
     "text": [
      "function double called with x:Prefect\n",
      "\tcalculated result:PrefectPrefect\n"
     ]
    },
    {
     "data": {
      "text/plain": [
       "'PrefectPrefect'"
      ]
     },
     "execution_count": 145,
     "metadata": {},
     "output_type": "execute_result"
    }
   ],
   "source": [
    "# make a prediction on this one:\n",
    "double('Prefect')"
   ]
  },
  {
   "cell_type": "code",
   "execution_count": 146,
   "metadata": {},
   "outputs": [
    {
     "name": "stdout",
     "output_type": "stream",
     "text": [
      "function double called with x:['banana', 'grape', 'apple', 'orange']\n",
      "\tcalculated result:['banana', 'grape', 'apple', 'orange', 'banana', 'grape', 'apple', 'orange']\n"
     ]
    },
    {
     "data": {
      "text/plain": [
       "['banana', 'grape', 'apple', 'orange', 'banana', 'grape', 'apple', 'orange']"
      ]
     },
     "execution_count": 146,
     "metadata": {},
     "output_type": "execute_result"
    }
   ],
   "source": [
    "# and this\n",
    "double(fruit)"
   ]
  },
  {
   "cell_type": "markdown",
   "metadata": {},
   "source": [
    "Loop & Function Exercise\n",
    "-------------------------------\n",
    "* Create a list of 10 numbers, your choice.\n",
    "* Use a `for` loop to iterate over it.\n",
    "* Think about what you'd need to do to calculate the average\n",
    "* Remember the `len()` function.\n",
    "* Create a function `average()` that takes a list as an input, calculates the average, and returns it\n",
    "* Test your function on a few different lists of numbers\n",
    "\n",
    "**Time: 10 minutes**"
   ]
  },
  {
   "cell_type": "markdown",
   "metadata": {},
   "source": [
    "WARNING WARNING DANGER DANGER\n",
    "---------------------------\n",
    "* In a pedagogical setting we use the `print()` function a lot -- this \"just\" prints some stuff to the screen\n",
    "* In real programs and scripts we are much more selective and generally have only a few `print()` function calls"
   ]
  },
  {
   "cell_type": "markdown",
   "metadata": {},
   "source": [
    "Q. Do I Have To Write My Own Functions?\n",
    "----------------------------------\n",
    "Answer: Don't write your own functions if they already exist.\n",
    "\n",
    "Q. How would I know if they already exist?\n",
    "```\n",
    ".\n",
    "\n",
    "\n",
    "\n",
    "\n",
    "\n",
    "\n",
    "\n",
    ".\n",
    "```\n",
    "A. Use code that others have already written.  In Python there are 3.5 ways to do this:\n",
    "\n",
    "* Built-in functions\n",
    "    * 50 of them\n",
    "* Standard library\n",
    "    * *Batteries Included™* means everyone has these\n",
    "    * 300 packages (aka *modules*), each with many functions (and *classes*)\n",
    "* Python Package Index (PyPI): http://pypi.python.org\n",
    "    * Anaconda includes about 200 of these out of the box, tens of thousands of others can be added easily\n",
    "* *methods* on objects ($\\frac{1}{2}$)\n",
    "    * methods are a kind of function\n",
    "    * this relies on using *classes* that have been written by someone else"
   ]
  },
  {
   "cell_type": "markdown",
   "metadata": {},
   "source": [
    "Tuple\n",
    "======\n",
    "* light-weight data structure\n",
    "* associate a number of entries\n",
    "* ordered (index look-up)\n",
    "* like a C `struct`\n",
    "* immutable"
   ]
  },
  {
   "cell_type": "code",
   "execution_count": 147,
   "metadata": {},
   "outputs": [],
   "source": [
    "# Person\n",
    "trillian = ('Tricia McMillan',  35, 'British')\n",
    "ford     = ('Ford Prefect',    200, 'Betelgeuse')\n",
    "arthur   = ('Arthur Dent',      42, 'British')"
   ]
  },
  {
   "cell_type": "code",
   "execution_count": 148,
   "metadata": {},
   "outputs": [
    {
     "data": {
      "text/plain": [
       "'Ford Prefect'"
      ]
     },
     "execution_count": 148,
     "metadata": {},
     "output_type": "execute_result"
    }
   ],
   "source": [
    "ford[0]"
   ]
  },
  {
   "cell_type": "code",
   "execution_count": 149,
   "metadata": {},
   "outputs": [
    {
     "data": {
      "text/plain": [
       "35"
      ]
     },
     "execution_count": 149,
     "metadata": {},
     "output_type": "execute_result"
    }
   ],
   "source": [
    "trillian[1]"
   ]
  },
  {
   "cell_type": "code",
   "execution_count": 150,
   "metadata": {},
   "outputs": [],
   "source": [
    "characters = [trillian, ford, arthur]"
   ]
  },
  {
   "cell_type": "code",
   "execution_count": 151,
   "metadata": {},
   "outputs": [
    {
     "data": {
      "text/plain": [
       "[('Tricia McMillan', 35, 'British'),\n",
       " ('Ford Prefect', 200, 'Betelgeuse'),\n",
       " ('Arthur Dent', 42, 'British')]"
      ]
     },
     "execution_count": 151,
     "metadata": {},
     "output_type": "execute_result"
    }
   ],
   "source": [
    "characters"
   ]
  },
  {
   "cell_type": "code",
   "execution_count": 152,
   "metadata": {},
   "outputs": [],
   "source": [
    "zaphod   = ('Zaphod Beeblebrox', 205, 'Betelgeuse')"
   ]
  },
  {
   "cell_type": "code",
   "execution_count": 153,
   "metadata": {},
   "outputs": [],
   "source": [
    "characters.append(zaphod)"
   ]
  },
  {
   "cell_type": "code",
   "execution_count": 154,
   "metadata": {},
   "outputs": [
    {
     "data": {
      "text/plain": [
       "[('Tricia McMillan', 35, 'British'),\n",
       " ('Ford Prefect', 200, 'Betelgeuse'),\n",
       " ('Arthur Dent', 42, 'British'),\n",
       " ('Zaphod Beeblebrox', 205, 'Betelgeuse')]"
      ]
     },
     "execution_count": 154,
     "metadata": {},
     "output_type": "execute_result"
    }
   ],
   "source": [
    "characters"
   ]
  },
  {
   "cell_type": "code",
   "execution_count": 155,
   "metadata": {},
   "outputs": [],
   "source": [
    "characters.sort()"
   ]
  },
  {
   "cell_type": "code",
   "execution_count": 156,
   "metadata": {},
   "outputs": [
    {
     "data": {
      "text/plain": [
       "[('Arthur Dent', 42, 'British'),\n",
       " ('Ford Prefect', 200, 'Betelgeuse'),\n",
       " ('Tricia McMillan', 35, 'British'),\n",
       " ('Zaphod Beeblebrox', 205, 'Betelgeuse')]"
      ]
     },
     "execution_count": 156,
     "metadata": {},
     "output_type": "execute_result"
    }
   ],
   "source": [
    "characters"
   ]
  },
  {
   "cell_type": "markdown",
   "metadata": {},
   "source": [
    "Dictionary\n",
    "===========\n",
    "* light-weight \"associative array\" data structure\n",
    "* aka \"map\" or \"hash map\"\n",
    "* associate a number of entries\n",
    "* name each entry\n",
    "* unordered (name look-up)\n",
    "* mutable\n",
    "\n",
    "Also:\n",
    "* foundational data structure in Python (*\"everything is a `dict`\"*)\n",
    "* highly optimized (don't bother writing your own hash map)\n",
    "* Python 3.6 provided even more memory optimization (20-25% savings in most cases!)"
   ]
  },
  {
   "cell_type": "code",
   "execution_count": 157,
   "metadata": {},
   "outputs": [],
   "source": [
    "# standard dict creation syntax\n",
    "trillian = {'name': 'Tricia McMillan',\n",
    "            'age':  35,\n",
    "            'natl': 'British'}"
   ]
  },
  {
   "cell_type": "code",
   "execution_count": 158,
   "metadata": {},
   "outputs": [
    {
     "data": {
      "text/plain": [
       "'Tricia McMillan'"
      ]
     },
     "execution_count": 158,
     "metadata": {},
     "output_type": "execute_result"
    }
   ],
   "source": [
    "trillian['name']"
   ]
  },
  {
   "cell_type": "code",
   "execution_count": 159,
   "metadata": {},
   "outputs": [
    {
     "data": {
      "text/plain": [
       "35"
      ]
     },
     "execution_count": 159,
     "metadata": {},
     "output_type": "execute_result"
    }
   ],
   "source": [
    "trillian['age']"
   ]
  },
  {
   "cell_type": "code",
   "execution_count": 160,
   "metadata": {},
   "outputs": [
    {
     "data": {
      "text/plain": [
       "dict"
      ]
     },
     "execution_count": 160,
     "metadata": {},
     "output_type": "execute_result"
    }
   ],
   "source": [
    "type(trillian)"
   ]
  },
  {
   "cell_type": "code",
   "execution_count": 161,
   "metadata": {},
   "outputs": [],
   "source": [
    "# can also use the dict() class directly to create instances of a dict\n",
    "# this only works if the keys are valid Python reference names (alpha-numeric, no spaces or special characters)\n",
    "ford     = dict(name='Ford Prefect', age=200, natl='Betelgeuse')\n",
    "arthur   = dict(name='Arthur Dent', age=42, natl='British')"
   ]
  },
  {
   "cell_type": "code",
   "execution_count": 162,
   "metadata": {},
   "outputs": [
    {
     "data": {
      "text/plain": [
       "200"
      ]
     },
     "execution_count": 162,
     "metadata": {},
     "output_type": "execute_result"
    }
   ],
   "source": [
    "ford['age']"
   ]
  },
  {
   "cell_type": "code",
   "execution_count": 163,
   "metadata": {},
   "outputs": [
    {
     "data": {
      "text/plain": [
       "'British'"
      ]
     },
     "execution_count": 163,
     "metadata": {},
     "output_type": "execute_result"
    }
   ],
   "source": [
    "arthur['natl']"
   ]
  },
  {
   "cell_type": "code",
   "execution_count": 164,
   "metadata": {},
   "outputs": [],
   "source": [
    "arthur['natl'] = 'English'"
   ]
  },
  {
   "cell_type": "code",
   "execution_count": 165,
   "metadata": {},
   "outputs": [
    {
     "data": {
      "text/plain": [
       "{'name': 'Arthur Dent', 'age': 42, 'natl': 'English'}"
      ]
     },
     "execution_count": 165,
     "metadata": {},
     "output_type": "execute_result"
    }
   ],
   "source": [
    "arthur"
   ]
  },
  {
   "cell_type": "code",
   "execution_count": 166,
   "metadata": {},
   "outputs": [],
   "source": [
    "# add\n",
    "arthur['city'] = 'Balcome'"
   ]
  },
  {
   "cell_type": "code",
   "execution_count": 167,
   "metadata": {},
   "outputs": [
    {
     "data": {
      "text/plain": [
       "{'name': 'Arthur Dent', 'age': 42, 'natl': 'English', 'city': 'Balcome'}"
      ]
     },
     "execution_count": 167,
     "metadata": {},
     "output_type": "execute_result"
    }
   ],
   "source": [
    "arthur"
   ]
  },
  {
   "cell_type": "code",
   "execution_count": 168,
   "metadata": {},
   "outputs": [],
   "source": [
    "zaphod     = dict(name='Zaphod Beeblebrox', age=220, natl='Betelgeuse')\n",
    "trillian   = dict(name='Tricia McMillan',   age=35,  natl='British')"
   ]
  },
  {
   "cell_type": "code",
   "execution_count": 169,
   "metadata": {},
   "outputs": [],
   "source": [
    "characters = [zaphod, trillian, arthur, ford]"
   ]
  },
  {
   "cell_type": "code",
   "execution_count": 170,
   "metadata": {},
   "outputs": [
    {
     "ename": "TypeError",
     "evalue": "'<' not supported between instances of 'dict' and 'dict'",
     "output_type": "error",
     "traceback": [
      "\u001b[0;31m---------------------------------------------------------------------------\u001b[0m",
      "\u001b[0;31mTypeError\u001b[0m                                 Traceback (most recent call last)",
      "\u001b[0;32m<ipython-input-170-de9268311ba5>\u001b[0m in \u001b[0;36m<module>\u001b[0;34m\u001b[0m\n\u001b[0;32m----> 1\u001b[0;31m \u001b[0msorted\u001b[0m\u001b[0;34m(\u001b[0m\u001b[0mcharacters\u001b[0m\u001b[0;34m)\u001b[0m\u001b[0;34m\u001b[0m\u001b[0;34m\u001b[0m\u001b[0m\n\u001b[0m",
      "\u001b[0;31mTypeError\u001b[0m: '<' not supported between instances of 'dict' and 'dict'"
     ]
    }
   ],
   "source": [
    "# can we sort this list of dictionaries?\n",
    "sorted(characters)"
   ]
  },
  {
   "cell_type": "code",
   "execution_count": 171,
   "metadata": {},
   "outputs": [
    {
     "data": {
      "text/plain": [
       "[{'name': 'Arthur Dent', 'age': 42, 'natl': 'English', 'city': 'Balcome'},\n",
       " {'name': 'Ford Prefect', 'age': 200, 'natl': 'Betelgeuse'},\n",
       " {'name': 'Tricia McMillan', 'age': 35, 'natl': 'British'},\n",
       " {'name': 'Zaphod Beeblebrox', 'age': 220, 'natl': 'Betelgeuse'}]"
      ]
     },
     "execution_count": 171,
     "metadata": {},
     "output_type": "execute_result"
    }
   ],
   "source": [
    "# need to provide a sorting key -- there is no natural key for a dictionary\n",
    "sorted(characters, key=lambda d: d['name'])"
   ]
  },
  {
   "cell_type": "markdown",
   "metadata": {},
   "source": [
    "Class\n",
    "=====\n",
    "* created with a `class` statement\n",
    "* methods are \"just\" functions with special invocation handling\n",
    "    * descriptor protocol (advanced topic, not for now)\n",
    "    * instance object is passed automatically as first argument\n",
    "* **dunder** (double-underscore) methods have pre-defined semantics\n",
    "    * only use ones that are specifed by the language\n",
    "    * don't make up your own"
   ]
  },
  {
   "cell_type": "code",
   "execution_count": 172,
   "metadata": {},
   "outputs": [],
   "source": [
    "# like a function inside a class statement\n",
    "# some functions have special handling, like __init__()\n",
    "class Person:\n",
    "    def __init__(self, name, age, natl):\n",
    "        'add attributes to a person instance object'\n",
    "        self.name = name\n",
    "        self.age  = age\n",
    "        self.natl = natl"
   ]
  },
  {
   "cell_type": "code",
   "execution_count": 173,
   "metadata": {},
   "outputs": [],
   "source": [
    "ford = Person('Ford Prefect', 200, 'Beetleguese')"
   ]
  },
  {
   "cell_type": "code",
   "execution_count": 174,
   "metadata": {},
   "outputs": [
    {
     "data": {
      "text/plain": [
       "'Ford Prefect'"
      ]
     },
     "execution_count": 174,
     "metadata": {},
     "output_type": "execute_result"
    }
   ],
   "source": [
    "ford.name"
   ]
  },
  {
   "cell_type": "code",
   "execution_count": 175,
   "metadata": {},
   "outputs": [
    {
     "data": {
      "text/plain": [
       "200"
      ]
     },
     "execution_count": 175,
     "metadata": {},
     "output_type": "execute_result"
    }
   ],
   "source": [
    "ford.age"
   ]
  },
  {
   "cell_type": "code",
   "execution_count": 176,
   "metadata": {},
   "outputs": [],
   "source": [
    "# rename function into conventional dunder name\n",
    "class Person:\n",
    "    def __init__(self, name, age, natl): # \"p\" comes from __new__ calling __init__\n",
    "        'add attributes to a person instance object'\n",
    "        self.name = name\n",
    "        self.age  = age\n",
    "        self.natl = natl"
   ]
  },
  {
   "cell_type": "code",
   "execution_count": 177,
   "metadata": {},
   "outputs": [],
   "source": [
    "# define \"birthday()\" method to increment age\n",
    "class Person:\n",
    "    def __init__(self, name, age=None, natl=None):\n",
    "        'add attributes to a person instance object'\n",
    "        self.name = name\n",
    "        self.age  = age\n",
    "        self.natl = natl\n",
    "        \n",
    "    def birthday(self):\n",
    "        self.age += 1\n",
    "        print(f\"Happy birthday {self.name}! You're one year older now at {self.age}\")\n",
    "        \n",
    "    def __str__(self):\n",
    "        return f\"{self.name} is {self.age} years old and {self.natl}\"\n",
    "    \n",
    "    def __repr__(self):\n",
    "        return f\"Person('{self.name}', age={self.age}, natl='{self.natl}')\""
   ]
  },
  {
   "cell_type": "code",
   "execution_count": 178,
   "metadata": {},
   "outputs": [],
   "source": [
    "trillian = Person('Tricia McMillan', 35, 'British')"
   ]
  },
  {
   "cell_type": "code",
   "execution_count": 179,
   "metadata": {},
   "outputs": [
    {
     "data": {
      "text/plain": [
       "Person('Tricia McMillan', age=35, natl='British')"
      ]
     },
     "execution_count": 179,
     "metadata": {},
     "output_type": "execute_result"
    }
   ],
   "source": [
    "trillian"
   ]
  },
  {
   "cell_type": "code",
   "execution_count": 180,
   "metadata": {},
   "outputs": [
    {
     "name": "stdout",
     "output_type": "stream",
     "text": [
      "Tricia McMillan is 35 years old and British\n"
     ]
    }
   ],
   "source": [
    "print(trillian)"
   ]
  },
  {
   "cell_type": "code",
   "execution_count": 181,
   "metadata": {},
   "outputs": [
    {
     "name": "stdout",
     "output_type": "stream",
     "text": [
      "Happy birthday Tricia McMillan! You're one year older now at 36\n"
     ]
    }
   ],
   "source": [
    "trillian.birthday()"
   ]
  },
  {
   "cell_type": "code",
   "execution_count": 182,
   "metadata": {},
   "outputs": [
    {
     "data": {
      "text/plain": [
       "Person('Tricia McMillan', age=36, natl='British')"
      ]
     },
     "execution_count": 182,
     "metadata": {},
     "output_type": "execute_result"
    }
   ],
   "source": [
    "trillian"
   ]
  },
  {
   "cell_type": "code",
   "execution_count": 183,
   "metadata": {},
   "outputs": [
    {
     "name": "stdout",
     "output_type": "stream",
     "text": [
      "Happy birthday Tricia McMillan! You're one year older now at 37\n"
     ]
    }
   ],
   "source": [
    "trillian.birthday()"
   ]
  },
  {
   "cell_type": "code",
   "execution_count": 184,
   "metadata": {},
   "outputs": [
    {
     "data": {
      "text/plain": [
       "Person('Tricia McMillan', age=37, natl='British')"
      ]
     },
     "execution_count": 184,
     "metadata": {},
     "output_type": "execute_result"
    }
   ],
   "source": [
    "trillian"
   ]
  },
  {
   "cell_type": "markdown",
   "metadata": {},
   "source": [
    "Class Exercise\n",
    "--------------\n",
    "1. Create the classic \"Circle\" class with a radius, color, and (x,y) coordinate for its center\n",
    "    * docstrings\n",
    "    * `__init__`, `__str__`, `__repr__` methods\n",
    "    * `circumfrence` method that returns `math.pi*self.r**2`\n",
    "2. Create a bunch of circles\n",
    "3. Put them into a list\n",
    "4. Iterate over the list\n",
    "5. Create a package `shapes.py` and put your `Circle` class into it.\n",
    "    * try to do `from shapes import Circle`"
   ]
  },
  {
   "cell_type": "markdown",
   "metadata": {},
   "source": [
    "Standard Library and Namespaces\n",
    "================="
   ]
  },
  {
   "cell_type": "code",
   "execution_count": 185,
   "metadata": {},
   "outputs": [
    {
     "ename": "NameError",
     "evalue": "name 'sin' is not defined",
     "output_type": "error",
     "traceback": [
      "\u001b[0;31m---------------------------------------------------------------------------\u001b[0m",
      "\u001b[0;31mNameError\u001b[0m                                 Traceback (most recent call last)",
      "\u001b[0;32m<ipython-input-185-37bcc242cfe1>\u001b[0m in \u001b[0;36m<module>\u001b[0;34m\u001b[0m\n\u001b[1;32m      2\u001b[0m \u001b[0;31m# Let's try to use some of these:\u001b[0m\u001b[0;34m\u001b[0m\u001b[0;34m\u001b[0m\u001b[0;34m\u001b[0m\u001b[0m\n\u001b[1;32m      3\u001b[0m \u001b[0;31m# sin(theta) = opposite/adjacent (in radians)v\u001b[0m\u001b[0;34m\u001b[0m\u001b[0;34m\u001b[0m\u001b[0;34m\u001b[0m\u001b[0m\n\u001b[0;32m----> 4\u001b[0;31m \u001b[0msin\u001b[0m\u001b[0;34m(\u001b[0m\u001b[0;36m3.14\u001b[0m\u001b[0;34m/\u001b[0m\u001b[0;36m2\u001b[0m\u001b[0;34m)\u001b[0m\u001b[0;34m\u001b[0m\u001b[0;34m\u001b[0m\u001b[0m\n\u001b[0m",
      "\u001b[0;31mNameError\u001b[0m: name 'sin' is not defined"
     ]
    }
   ],
   "source": [
    "# Python has great math capabilities as part of its Batteries Included paradigm\n",
    "# Let's try to use some of these:\n",
    "# sin(theta) = opposite/adjacent (in radians)v\n",
    "sin(3.14/2)"
   ]
  },
  {
   "cell_type": "code",
   "execution_count": 186,
   "metadata": {},
   "outputs": [],
   "source": [
    "import math #  ? have we just done the same as #include <math.h> ?"
   ]
  },
  {
   "cell_type": "code",
   "execution_count": 187,
   "metadata": {},
   "outputs": [
    {
     "data": {
      "text/plain": [
       "True"
      ]
     },
     "execution_count": 187,
     "metadata": {},
     "output_type": "execute_result"
    }
   ],
   "source": [
    "'sin' in dir(math)"
   ]
  },
  {
   "cell_type": "code",
   "execution_count": 188,
   "metadata": {},
   "outputs": [
    {
     "ename": "NameError",
     "evalue": "name 'sin' is not defined",
     "output_type": "error",
     "traceback": [
      "\u001b[0;31m---------------------------------------------------------------------------\u001b[0m",
      "\u001b[0;31mNameError\u001b[0m                                 Traceback (most recent call last)",
      "\u001b[0;32m<ipython-input-188-0f4b2ec75d85>\u001b[0m in \u001b[0;36m<module>\u001b[0;34m\u001b[0m\n\u001b[0;32m----> 1\u001b[0;31m \u001b[0msin\u001b[0m\u001b[0;34m(\u001b[0m\u001b[0;36m3.14\u001b[0m\u001b[0;34m/\u001b[0m\u001b[0;36m2\u001b[0m\u001b[0;34m)\u001b[0m\u001b[0;34m\u001b[0m\u001b[0;34m\u001b[0m\u001b[0m\n\u001b[0m",
      "\u001b[0;31mNameError\u001b[0m: name 'sin' is not defined"
     ]
    }
   ],
   "source": [
    "sin(3.14/2)"
   ]
  },
  {
   "cell_type": "code",
   "execution_count": 189,
   "metadata": {},
   "outputs": [],
   "source": [
    "# import math"
   ]
  },
  {
   "cell_type": "code",
   "execution_count": 190,
   "metadata": {},
   "outputs": [
    {
     "data": {
      "text/plain": [
       "0.9999996829318346"
      ]
     },
     "execution_count": 190,
     "metadata": {},
     "output_type": "execute_result"
    }
   ],
   "source": [
    "# sin @ pi/2\n",
    "math.sin(3.14/2)"
   ]
  },
  {
   "cell_type": "code",
   "execution_count": 191,
   "metadata": {},
   "outputs": [],
   "source": [
    "# namespaced"
   ]
  },
  {
   "cell_type": "code",
   "execution_count": 192,
   "metadata": {},
   "outputs": [
    {
     "data": {
      "text/plain": [
       "1.0"
      ]
     },
     "execution_count": 192,
     "metadata": {},
     "output_type": "execute_result"
    }
   ],
   "source": [
    "# cos for comparison\n",
    "math.cos(0)"
   ]
  },
  {
   "cell_type": "code",
   "execution_count": 193,
   "metadata": {},
   "outputs": [],
   "source": [
    "from math import sin"
   ]
  },
  {
   "cell_type": "code",
   "execution_count": 194,
   "metadata": {},
   "outputs": [
    {
     "data": {
      "text/plain": [
       "0.9999996829318346"
      ]
     },
     "execution_count": 194,
     "metadata": {},
     "output_type": "execute_result"
    }
   ],
   "source": [
    "sin(3.14/2)"
   ]
  },
  {
   "cell_type": "code",
   "execution_count": 195,
   "metadata": {},
   "outputs": [],
   "source": [
    "# what else is in the math namespace? dir()"
   ]
  },
  {
   "cell_type": "code",
   "execution_count": 196,
   "metadata": {},
   "outputs": [],
   "source": [
    "# that isn't very helpful! What did we use before to find out about \"average()\"?"
   ]
  },
  {
   "cell_type": "markdown",
   "metadata": {},
   "source": [
    "Anything Else About The Python Standard Libary?\n",
    "--------------------------------------------\n",
    "Only that it is totally amazing and you should avoid it at your peril:\n",
    "* stable\n",
    "* always available\n",
    "* optimized\n",
    "    * written in C if necessary\n",
    "* documented\n",
    "* 100% test coverage\n",
    "* used extensively in the field\n",
    "    * how likely do you think it is you'll be the first to discover a bug?\n",
    "    "
   ]
  },
  {
   "cell_type": "markdown",
   "metadata": {},
   "source": [
    "How Do I Learn More?\n",
    "-------------------\n",
    "* Come to events like this!\n",
    "* Google for what you need. GIYF: it will most likely point you to [python.org](http://python.org) and if not?\n",
    "* Skim Chapter 10 of the Python Tutorial: [A Brief Tour of the Standard Library](https://docs.python.org/3/tutorial/stdlib.html)\n",
    "    * and also possibly Chapter 11: [Part 2](https://docs.python.org/3/tutorial/stdlib2.html)\n",
    "* Just browse or search the [Official Standard Library Module Index](https://docs.python.org/3/py-modindex.html)\n",
    "    * make sure you're checking the version that matches your Python version\n",
    "* Ask a friend!\n",
    "* As a last resort, search the [Complete Index Of Everything Inside The Standard Library](https://docs.python.org/3/genindex-all.html)"
   ]
  },
  {
   "cell_type": "markdown",
   "metadata": {},
   "source": [
    "So what's this **Anaconda** thing, then?\n",
    "--------------------------------------\n",
    "* [200+ of the most commonly used, publicly available, open source, libraries and tools](http://docs.continuum.io/anaconda/pkg-docs) for computational science in Python **that are not found in the Standard Library**\n",
    "* They all \"Just Work\" no compilation or build chains or manual dependency resolution required\n",
    "* A further 200 packages that you can install on-demand:\n",
    "    * `conda install biopython`\n",
    "        * 2MB -- do this if you want to try it out\n",
    "* 250 MB instead of 25 MB\n",
    "* Available for free, for ever, for Windows, Mac, Linux (and Raspberry Pi)\n",
    "* More than just Python (don't do these now!)\n",
    "    * `conda install -c r r-essentials`\n",
    "    * `conda install -c ijstokes julia`\n",
    "        * v0.3.10, OS X only!"
   ]
  },
  {
   "cell_type": "markdown",
   "metadata": {},
   "source": [
    "But Python Package Index and `pip`?\n",
    "---------------------------------\n",
    "* the [Python Package Index](https://pypi.python.org/) has over 70,000 community contributed packages\n",
    "* `pip install fred`\n",
    "* plays nicely with Anaconda and `conda` (so feel free to mix-and-match)\n",
    "* remember that no one checks the packages in PyPI: *caveat emptor*!"
   ]
  },
  {
   "cell_type": "markdown",
   "metadata": {},
   "source": [
    "Files\n",
    "===\n",
    "* best bet is to use a data-format-specific library that can read and write files from disk for you (e.g. HDF5)\n",
    "* but sometimes you need to DIY\n",
    "* and you should know how to do this anyway"
   ]
  },
  {
   "cell_type": "code",
   "execution_count": 197,
   "metadata": {},
   "outputs": [],
   "source": [
    "points = [\n",
    "    (0,7),\n",
    "    (2,3),\n",
    "    (8,-1),\n",
    "    (4,12),\n",
    "    (3, -6),\n",
    "    (-2, 9)\n",
    "]"
   ]
  },
  {
   "cell_type": "code",
   "execution_count": 198,
   "metadata": {},
   "outputs": [],
   "source": [
    "# save points to a file\n",
    "points\n",
    "with open('xy_basic.txt', 'w') as fh:\n",
    "    for x, y in points:\n",
    "        fh.write('{x}\\t{y}\\n'.format(x=x, y=y))"
   ]
  },
  {
   "cell_type": "code",
   "execution_count": 199,
   "metadata": {},
   "outputs": [
    {
     "name": "stdout",
     "output_type": "stream",
     "text": [
      "0\t7\r\n",
      "2\t3\r\n",
      "8\t-1\r\n",
      "4\t12\r\n",
      "3\t-6\r\n",
      "-2\t9\r\n"
     ]
    }
   ],
   "source": [
    "!cat xy_basic.txt"
   ]
  },
  {
   "cell_type": "code",
   "execution_count": 200,
   "metadata": {},
   "outputs": [],
   "source": [
    "# read in file, shifted by (5, 5)\n",
    "# comment: split, append, int, close\n",
    "result = []\n",
    "with open('xy_basic.txt') as datafile:\n",
    "    for line in datafile:\n",
    "        x, y = line.split()\n",
    "        x = int(x)\n",
    "        y = int(y)\n",
    "        result.append((x,y)) # inner round-brackets create 2-tuple (x,y)"
   ]
  },
  {
   "cell_type": "code",
   "execution_count": 201,
   "metadata": {},
   "outputs": [
    {
     "data": {
      "text/plain": [
       "[(0, 7), (2, 3), (8, -1), (4, 12), (3, -6), (-2, 9)]"
      ]
     },
     "execution_count": 201,
     "metadata": {},
     "output_type": "execute_result"
    }
   ],
   "source": [
    "result"
   ]
  },
  {
   "cell_type": "markdown",
   "metadata": {},
   "source": [
    "Functions vs. Methods\n",
    "===================\n",
    "* functions have arguments and return values\n",
    "* methods operate on objects and typically change the state of that object, though sometimes they return an object\n",
    "* operations you can perform on an object -- e.g.\n",
    "    * Perl: `sort(array)` is a function call, which returns a sorted array\n",
    "    * Python: `array.sort()` is a method call, which acts on the array and sorts it"
   ]
  },
  {
   "cell_type": "code",
   "execution_count": 202,
   "metadata": {},
   "outputs": [],
   "source": [
    "# builtin \"sorted()\""
   ]
  },
  {
   "cell_type": "code",
   "execution_count": 203,
   "metadata": {},
   "outputs": [],
   "source": [
    "# list method \".sort()\""
   ]
  },
  {
   "cell_type": "code",
   "execution_count": 204,
   "metadata": {},
   "outputs": [],
   "source": [
    "# what's the difference?"
   ]
  },
  {
   "cell_type": "code",
   "execution_count": 207,
   "metadata": {},
   "outputs": [
    {
     "data": {
      "text/plain": [
       "['white',\n",
       " 'smoke',\n",
       " 'red',\n",
       " 'pink',\n",
       " 'orange',\n",
       " 'mauve',\n",
       " 'grey',\n",
       " 'green',\n",
       " 'charcoal',\n",
       " 'blue',\n",
       " 'black']"
      ]
     },
     "execution_count": 207,
     "metadata": {},
     "output_type": "execute_result"
    }
   ],
   "source": [
    "# reverse"
   ]
  },
  {
   "cell_type": "markdown",
   "metadata": {},
   "source": [
    "More references for string formatting:\n",
    "* https://mkaz.github.io/2012/10/10/python-string-format/\n",
    "* https://pyformat.info/"
   ]
  },
  {
   "cell_type": "markdown",
   "metadata": {},
   "source": [
    "Booleans, Conditionals, Comprehensions\n",
    "====================="
   ]
  },
  {
   "cell_type": "code",
   "execution_count": 209,
   "metadata": {},
   "outputs": [],
   "source": [
    "# -12 to 20, steps of 3\n",
    "vals = list(range(-12,20,3))"
   ]
  },
  {
   "cell_type": "code",
   "execution_count": 210,
   "metadata": {},
   "outputs": [
    {
     "data": {
      "text/plain": [
       "[-12, -9, -6, -3, 0, 3, 6, 9, 12, 15, 18]"
      ]
     },
     "execution_count": 210,
     "metadata": {},
     "output_type": "execute_result"
    }
   ],
   "source": [
    "vals"
   ]
  },
  {
   "cell_type": "code",
   "execution_count": 211,
   "metadata": {},
   "outputs": [
    {
     "data": {
      "text/plain": [
       "[-12, -6, 0, 6, 12, 18]"
      ]
     },
     "execution_count": 211,
     "metadata": {},
     "output_type": "execute_result"
    }
   ],
   "source": [
    "# threes and evens\n",
    "[v for v in vals if v % 2 == 0]"
   ]
  },
  {
   "cell_type": "code",
   "execution_count": 212,
   "metadata": {},
   "outputs": [
    {
     "data": {
      "text/plain": [
       "[-3, 3]"
      ]
     },
     "execution_count": 212,
     "metadata": {},
     "output_type": "execute_result"
    }
   ],
   "source": [
    "[v for v in vals if abs(v) == 3]"
   ]
  },
  {
   "cell_type": "code",
   "execution_count": 213,
   "metadata": {},
   "outputs": [],
   "source": [
    "# keep short colors 'green red blue black yellow pink gold silver'\n",
    "colors = 'green red blue black yellow pink gold silver'.split()"
   ]
  },
  {
   "cell_type": "code",
   "execution_count": null,
   "metadata": {},
   "outputs": [],
   "source": [
    "[c for c in colors if len(c) <= 4]"
   ]
  },
  {
   "cell_type": "code",
   "execution_count": null,
   "metadata": {},
   "outputs": [],
   "source": [
    "# skip short        "
   ]
  },
  {
   "cell_type": "code",
   "execution_count": null,
   "metadata": {},
   "outputs": [],
   "source": [
    "# comprehension: evens"
   ]
  },
  {
   "cell_type": "code",
   "execution_count": null,
   "metadata": {},
   "outputs": [],
   "source": [
    "# short colors"
   ]
  },
  {
   "cell_type": "code",
   "execution_count": null,
   "metadata": {},
   "outputs": [],
   "source": [
    "# squared axis"
   ]
  },
  {
   "cell_type": "code",
   "execution_count": null,
   "metadata": {},
   "outputs": [],
   "source": [
    "# upper case colors"
   ]
  },
  {
   "cell_type": "code",
   "execution_count": null,
   "metadata": {},
   "outputs": [],
   "source": [
    "# random.randint"
   ]
  },
  {
   "cell_type": "code",
   "execution_count": null,
   "metadata": {},
   "outputs": [],
   "source": [
    "# How would you create a list of 20 random integers?"
   ]
  },
  {
   "cell_type": "markdown",
   "metadata": {},
   "source": [
    "Comprehension Exercise\n",
    "-----------------------\n",
    "Create list comprehensions that:\n",
    "* filter the list selecting only values greater than 3\n",
    "* create a new list containing only the odd numbers, but multiply these by 10\n",
    "    * odd numbers can be found by testing if `v%2 == 1`\n",
    "\n",
    "**Time: 10 minutes**"
   ]
  },
  {
   "cell_type": "markdown",
   "metadata": {},
   "source": [
    "Next Steps\n",
    "======\n",
    "* find a project where you can start using Python\n",
    "* refer to the follow-up tutorials listed at the top\n",
    "* join one of the Boston area Python and Data Science meetups:\n",
    "    * [Boston Python User Group](http://www.meetup.com/bostonpython/)\n",
    "    * Search for \"Python\" or \"Data Science\" at [meetup.com](http://www.meetup.com) near you\n",
    "        * pro-tip: make sure the group is active and relevant before signing up!"
   ]
  }
 ],
 "metadata": {
  "anaconda-cloud": {},
  "environment": {
   "channels": [
    "anaconda-fusion",
    "r",
    "defaults"
   ],
   "dependencies": [
    "_license=1.1=py27_1",
    "_nb_ext_conf=0.3.0=py27_0",
    "alabaster=0.7.9=py27_0",
    "anaconda=4.2.0=np111py27_0",
    "anaconda-clean=1.0.0=py27_0",
    "anaconda-client=1.5.1=py27_0",
    "anaconda-navigator=1.3.1=py27_0",
    "appnope=0.1.0=py27_0",
    "appscript=1.0.1=py27_0",
    "argcomplete=1.0.0=py27_1",
    "astroid=1.4.7=py27_0",
    "astropy=1.2.1=np111py27_0",
    "babel=2.3.4=py27_0",
    "backports=1.0=py27_0",
    "backports_abc=0.4=py27_0",
    "beautifulsoup4=4.5.1=py27_0",
    "bitarray=0.8.1=py27_0",
    "blaze=0.10.1=py27_0",
    "bokeh=0.12.2=py27_0",
    "boto=2.42.0=py27_0",
    "bottleneck=1.1.0=np111py27_0",
    "cdecimal=2.3=py27_2",
    "cffi=1.7.0=py27_0",
    "chest=0.2.3=py27_0",
    "click=6.6=py27_0",
    "cloudpickle=0.2.1=py27_0",
    "clyent=1.2.2=py27_0",
    "colorama=0.3.7=py27_0",
    "configobj=5.0.6=py27_0",
    "configparser=3.5.0=py27_0",
    "contextlib2=0.5.3=py27_0",
    "cryptography=1.5=py27_0",
    "curl=7.49.0=1",
    "cycler=0.10.0=py27_0",
    "cython=0.24.1=py27_0",
    "cytoolz=0.8.0=py27_0",
    "dask=0.11.0=py27_0",
    "datashape=0.5.2=py27_0",
    "decorator=4.0.10=py27_0",
    "dill=0.2.5=py27_0",
    "docutils=0.12=py27_2",
    "dynd-python=0.7.2=py27_0",
    "entrypoints=0.2.2=py27_0",
    "enum34=1.1.6=py27_0",
    "et_xmlfile=1.0.1=py27_0",
    "fastcache=1.0.2=py27_1",
    "filelock=2.0.6=py27_0",
    "flask=0.11.1=py27_0",
    "flask-cors=2.1.2=py27_0",
    "freetype=2.5.5=1",
    "funcsigs=1.0.2=py27_0",
    "functools32=3.2.3.2=py27_0",
    "futures=3.0.5=py27_0",
    "get_terminal_size=1.0.0=py27_0",
    "gevent=1.1.2=py27_0",
    "greenlet=0.4.10=py27_0",
    "grin=1.2.1=py27_3",
    "h5py=2.6.0=np111py27_2",
    "hdf5=1.8.17=1",
    "heapdict=1.0.0=py27_1",
    "icu=54.1=0",
    "idna=2.1=py27_0",
    "imagesize=0.7.1=py27_0",
    "ipaddress=1.0.16=py27_0",
    "ipykernel=4.5.0=py27_0",
    "ipython=5.1.0=py27_0",
    "ipython_genutils=0.1.0=py27_0",
    "ipywidgets=5.2.2=py27_0",
    "itsdangerous=0.24=py27_0",
    "jbig=2.1=0",
    "jdcal=1.2=py27_1",
    "jedi=0.9.0=py27_1",
    "jinja2=2.8=py27_1",
    "jpeg=8d=2",
    "jsonschema=2.5.1=py27_0",
    "jupyter=1.0.0=py27_3",
    "jupyter_client=4.4.0=py27_0",
    "jupyter_console=5.0.0=py27_0",
    "jupyter_core=4.2.0=py27_0",
    "lazy-object-proxy=1.2.1=py27_0",
    "libdynd=0.7.2=0",
    "libpng=1.6.22=0",
    "libtiff=4.0.6=2",
    "libxml2=2.9.2=0",
    "libxslt=1.1.28=2",
    "llvmlite=0.13.0=py27_0",
    "locket=0.2.0=py27_1",
    "lxml=3.6.4=py27_0",
    "markupsafe=0.23=py27_2",
    "matplotlib=1.5.3=np111py27_0",
    "mistune=0.7.3=py27_1",
    "mkl=11.3.3=0",
    "mkl-service=1.1.2=py27_2",
    "mpmath=0.19=py27_1",
    "multipledispatch=0.4.8=py27_0",
    "nb_anacondacloud=1.2.0=py27_0",
    "nb_conda=2.0.0=py27_0",
    "nb_conda_kernels=2.0.0=py27_0",
    "nbconvert=4.2.0=py27_0",
    "nbformat=4.1.0=py27_0",
    "nbpresent=3.0.2=py27_0",
    "networkx=1.11=py27_0",
    "nltk=3.2.1=py27_0",
    "nose=1.3.7=py27_1",
    "notebook=4.2.3=py27_0",
    "numba=0.28.1=np111py27_0",
    "numexpr=2.6.1=np111py27_0",
    "numpy=1.11.1=py27_0",
    "odo=0.5.0=py27_1",
    "openpyxl=2.3.2=py27_0",
    "openssl=1.0.2j=0",
    "pandas=0.18.1=np111py27_0",
    "partd=0.3.6=py27_0",
    "path.py=8.2.1=py27_0",
    "pathlib2=2.1.0=py27_0",
    "patsy=0.4.1=py27_0",
    "pep8=1.7.0=py27_0",
    "pexpect=4.0.1=py27_0",
    "pickleshare=0.7.4=py27_0",
    "pillow=3.3.1=py27_0",
    "pip=8.1.2=py27_0",
    "pkginfo=1.3.2=py27_0",
    "ply=3.9=py27_0",
    "prompt_toolkit=1.0.3=py27_0",
    "psutil=4.3.1=py27_0",
    "ptyprocess=0.5.1=py27_0",
    "py=1.4.31=py27_0",
    "pyasn1=0.1.9=py27_0",
    "pyaudio=0.2.7=py27_0",
    "pycosat=0.6.1=py27_1",
    "pycparser=2.14=py27_1",
    "pycrypto=2.6.1=py27_4",
    "pycurl=7.43.0=py27_0",
    "pyflakes=1.3.0=py27_0",
    "pygments=2.1.3=py27_0",
    "pylint=1.5.4=py27_1",
    "pyopenssl=16.0.0=py27_0",
    "pyparsing=2.1.4=py27_0",
    "pyqt=5.6.0=py27_0",
    "pytables=3.2.3.1=np111py27_0",
    "pytest=2.9.2=py27_0",
    "python=2.7.12=1",
    "python-dateutil=2.5.3=py27_0",
    "python.app=1.2=py27_4",
    "pytz=2016.6.1=py27_0",
    "pyyaml=3.12=py27_0",
    "pyzmq=15.4.0=py27_0",
    "qt=5.6.0=0",
    "qtawesome=0.3.3=py27_0",
    "qtconsole=4.2.1=py27_1",
    "qtpy=1.1.2=py27_0",
    "readline=6.2=2",
    "redis=3.2.0=0",
    "redis-py=2.10.5=py27_0",
    "requests=2.11.1=py27_0",
    "rope=0.9.4=py27_1",
    "scikit-image=0.12.3=np111py27_1",
    "scikit-learn=0.17.1=np111py27_2",
    "scipy=0.18.1=np111py27_0",
    "setuptools=27.2.0=py27_0",
    "simplegeneric=0.8.1=py27_1",
    "singledispatch=3.4.0.3=py27_0",
    "sip=4.18=py27_0",
    "six=1.10.0=py27_0",
    "snowballstemmer=1.2.1=py27_0",
    "sockjs-tornado=1.0.3=py27_0",
    "sphinx=1.4.6=py27_0",
    "spyder=3.0.0=py27_0",
    "sqlalchemy=1.0.13=py27_0",
    "sqlite=3.13.0=0",
    "ssl_match_hostname=3.4.0.2=py27_1",
    "statsmodels=0.6.1=np111py27_1",
    "sympy=1.0=py27_0",
    "terminado=0.6=py27_0",
    "tk=8.5.18=0",
    "toolz=0.8.0=py27_0",
    "tornado=4.4.1=py27_0",
    "traitlets=4.3.0=py27_0",
    "unicodecsv=0.14.1=py27_0",
    "wcwidth=0.1.7=py27_0",
    "werkzeug=0.11.11=py27_0",
    "wheel=0.29.0=py27_0",
    "widgetsnbextension=1.2.6=py27_0",
    "wrapt=1.10.6=py27_0",
    "xlrd=1.0.0=py27_0",
    "xlsxwriter=0.9.3=py27_0",
    "xlwings=0.10.0=py27_0",
    "xlwt=1.1.2=py27_0",
    "xz=5.2.2=0",
    "yaml=0.1.6=0",
    "zlib=1.2.8=3",
    {
     "pip": [
      "backports-abc==0.4",
      "backports.shutil-get-terminal-size==1.0.0",
      "backports.ssl-match-hostname==3.4.0.2",
      "dynd==0.7.3.dev1",
      "et-xmlfile==1.0.1",
      "ipython-genutils==0.1.0",
      "jupyter-client==4.4.0",
      "jupyter-console==5.0.0",
      "jupyter-core==4.2.0",
      "nb-anacondacloud==1.2.0",
      "nb-conda==2.0.0",
      "nb-conda-kernels==2.0.0",
      "prompt-toolkit==1.0.3",
      "tables==3.2.3.1"
     ]
    }
   ],
   "name": "ana42py27",
   "prefix": "/Users/ijstokes/anaconda/envs/ana42py27"
  },
  "hide_input": false,
  "kernelspec": {
   "display_name": "Python 3",
   "language": "python",
   "name": "python3"
  },
  "language_info": {
   "codemirror_mode": {
    "name": "ipython",
    "version": 3
   },
   "file_extension": ".py",
   "mimetype": "text/x-python",
   "name": "python",
   "nbconvert_exporter": "python",
   "pygments_lexer": "ipython3",
   "version": "3.7.4"
  },
  "toc": {
   "toc_cell": false,
   "toc_number_sections": true,
   "toc_threshold": 6,
   "toc_window_display": false
  }
 },
 "nbformat": 4,
 "nbformat_minor": 1
}
