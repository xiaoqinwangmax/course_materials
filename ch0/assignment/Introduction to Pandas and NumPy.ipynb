{
 "cells": [
  {
   "cell_type": "markdown",
   "metadata": {},
   "source": [
    "# Introduction to Pandas & NumPy"
   ]
  },
  {
   "cell_type": "markdown",
   "metadata": {},
   "source": [
    "## Importing the librairies"
   ]
  },
  {
   "cell_type": "code",
   "execution_count": null,
   "metadata": {},
   "outputs": [],
   "source": [
    "# import the pandas and NumPy librairies\n",
    "import pandas as pd\n",
    "import numpy as np"
   ]
  },
  {
   "cell_type": "markdown",
   "metadata": {},
   "source": [
    "## Introduction to NumPy"
   ]
  },
  {
   "cell_type": "markdown",
   "metadata": {},
   "source": [
    "### Basic NumPy functions"
   ]
  },
  {
   "cell_type": "code",
   "execution_count": null,
   "metadata": {},
   "outputs": [],
   "source": [
    "# Create an array with 21 elements uniformly spaced between 0 and 10: first_array\n",
    "\n",
    "### CODE HERE ###\n",
    " \n",
    "print(first_array)"
   ]
  },
  {
   "cell_type": "code",
   "execution_count": null,
   "metadata": {},
   "outputs": [],
   "source": [
    "# Create an array of 21 integers randomly drawn between 0 and 10: rnd_array\n",
    "\n",
    "### CODE HERE ###\n",
    " \n",
    "print(rnd_array)"
   ]
  },
  {
   "cell_type": "code",
   "execution_count": null,
   "metadata": {},
   "outputs": [],
   "source": [
    "# Cast first_array to an array of integers: first_updated\n",
    "\n",
    "### CODE HERE ###\n",
    " \n",
    "# stack together first_updated and rnd_array: stack_array\n",
    "\n",
    "### CODE HERE ###\n",
    "\n",
    "print(stack_array)"
   ]
  },
  {
   "cell_type": "code",
   "execution_count": null,
   "metadata": {},
   "outputs": [],
   "source": [
    "# What is the average value of stack_array?\n",
    "\n",
    "### CODE HERE ###\n",
    " \n",
    "# What is the row-average of stack_array?\n",
    "\n",
    "### CODE HERE ###\n"
   ]
  },
  {
   "cell_type": "markdown",
   "metadata": {},
   "source": [
    "## Introduction to Pandas"
   ]
  },
  {
   "cell_type": "markdown",
   "metadata": {},
   "source": [
    "### Inspecting DataFrames"
   ]
  },
  {
   "cell_type": "code",
   "execution_count": null,
   "metadata": {},
   "outputs": [],
   "source": [
    "# Load the googleplaystore.csv file into a pandas DataFrame\n",
    "\n",
    "### CODE HERE ###\n",
    "df = pd.read_csv('data/googleplaystore.csv')"
   ]
  },
  {
   "cell_type": "code",
   "execution_count": null,
   "metadata": {},
   "outputs": [],
   "source": [
    "# Print the columns of your DataFrame\n",
    "\n",
    "### CODE HERE ###\n"
   ]
  },
  {
   "cell_type": "code",
   "execution_count": null,
   "metadata": {},
   "outputs": [],
   "source": [
    "# Select the first 5 rows of your DataFrame\n",
    "\n",
    "### CODE HERE ###\n"
   ]
  },
  {
   "cell_type": "code",
   "execution_count": null,
   "metadata": {},
   "outputs": [],
   "source": [
    "# Show some basic statistical details of your DataFrame\n",
    "\n",
    "### CODE HERE ###\n"
   ]
  },
  {
   "cell_type": "code",
   "execution_count": null,
   "metadata": {},
   "outputs": [],
   "source": [
    "# Show all the unique values in your DataFrame\n",
    "\n",
    "### CODE HERE ###\n"
   ]
  },
  {
   "cell_type": "markdown",
   "metadata": {},
   "source": [
    "### Updating DataFrames"
   ]
  },
  {
   "cell_type": "code",
   "execution_count": null,
   "metadata": {},
   "outputs": [],
   "source": [
    "# Create a new DataFrame called 'updated_apps' that doesn't contain the string 'Varies with device' in the 'Size' column\n",
    "\n",
    "### CODE HERE ###\n"
   ]
  },
  {
   "cell_type": "code",
   "execution_count": null,
   "metadata": {},
   "outputs": [],
   "source": [
    "# Let's create a function to update a single string of the 'Size' column into a number\n",
    "\n",
    "def update_value_loop(s):\n",
    "    # replace 1,000\n",
    "    s = s.replace('1,000','1000')\n",
    " \n",
    "    # get value and character strings\n",
    "    val = s[:-1]\n",
    "    char = s[-1:]\n",
    " \n",
    "    # convert to value\n",
    "    number = float(val)\n",
    " \n",
    "    # multiply value\n",
    "    if char == 'k':\n",
    "        return (number * 1000)\n",
    "    elif char == 'M':\n",
    "        return (number * 1000000)\n",
    "    else:\n",
    "        return number"
   ]
  },
  {
   "cell_type": "markdown",
   "metadata": {},
   "source": [
    "First, let's update all the values in the 'Size' column by iterating over the DataFrames' rows and appending the results"
   ]
  },
  {
   "cell_type": "code",
   "execution_count": null,
   "metadata": {},
   "outputs": [],
   "source": [
    "%%timeit\n",
    "app_sizes = []\n",
    " \n",
    "for index, row in updated_apps.iterrows():\n",
    "    app_sizes.append(update_value_loop(row['Size']))"
   ]
  },
  {
   "cell_type": "markdown",
   "metadata": {},
   "source": [
    "Now, let's do the same using pandas' apply() function"
   ]
  },
  {
   "cell_type": "code",
   "execution_count": null,
   "metadata": {},
   "outputs": [],
   "source": [
    "%%timeit\n",
    "app_sizes = updated_apps.apply(lambda row: update_value_loop(row['Size']), axis=1)"
   ]
  },
  {
   "cell_type": "markdown",
   "metadata": {},
   "source": [
    "The apply() method is 5x faster!"
   ]
  },
  {
   "cell_type": "code",
   "execution_count": null,
   "metadata": {},
   "outputs": [],
   "source": [
    "# Let's create a similar function that operates on an entire Series at a time\n",
    "\n",
    "def update_size_values_vectorized(s):\n",
    "    # replace 1,000\n",
    "    s = s.replace('1,000+','1000+')\n",
    "    \n",
    "    # remove last string\n",
    "    val = s.str[:-1]\n",
    "    char = s.str[-1:]\n",
    " \n",
    "    # convert to value\n",
    "    number = val.astype(float)\n",
    "\n",
    "    # scale number based on suffix\n",
    "    number[char == 'k'] = number[char == 'k'] * 1_000\n",
    "    number[char == 'M'] = number[char == 'M'] * 1_000_000\n",
    "\n",
    "    return number"
   ]
  },
  {
   "cell_type": "markdown",
   "metadata": {},
   "source": [
    "It is possible to go even faster by using a vectorized function"
   ]
  },
  {
   "cell_type": "code",
   "execution_count": null,
   "metadata": {},
   "outputs": [],
   "source": [
    "%%timeit\n",
    "app_sizes = update_size_values_vectorized(updated_apps['Size'])"
   ]
  },
  {
   "cell_type": "markdown",
   "metadata": {},
   "source": [
    "There is a 10x improvement!"
   ]
  },
  {
   "cell_type": "code",
   "execution_count": null,
   "metadata": {},
   "outputs": [],
   "source": [
    "# Create a similar vectorized function to update the 'Price' variable of the DataFrame\n",
    "# Tips: \n",
    "# (1) replaces 'Everyone' by '$0' and '0' by '$0'\n",
    "# (2) removes the $ symbol, \n",
    "# (3) converts the strings to floats. \n",
    "\n",
    "def update_price(s):\n",
    "    # Deal with the 'Everyone' issue\n",
    "    \n",
    "    ### CODE HERE ###\n",
    "\n",
    "    # get value without the $ symbol\n",
    "    \n",
    "    ### CODE HERE ###\n",
    " \n",
    "    # convert to float value and return the result\n",
    "    \n",
    "    ### CODE HERE ###\n"
   ]
  },
  {
   "cell_type": "markdown",
   "metadata": {},
   "source": [
    "Let's see how fast our function is updating the Price variable"
   ]
  },
  {
   "cell_type": "code",
   "execution_count": null,
   "metadata": {},
   "outputs": [],
   "source": [
    "%%timeit\n",
    "app_prices = update_price(updated_apps['Price'])"
   ]
  },
  {
   "cell_type": "markdown",
   "metadata": {},
   "source": [
    "### Memory Management"
   ]
  },
  {
   "cell_type": "code",
   "execution_count": null,
   "metadata": {},
   "outputs": [],
   "source": [
    "# Let's create a function to compare the memory usage when storing a DataFrame's column as string vs category\n",
    "\n",
    "def mem_usage(pandas_obj):\n",
    "    if isinstance(pandas_obj,pd.DataFrame):\n",
    "        usage_b = pandas_obj.memory_usage(deep=True).sum()\n",
    "    else: # we assume if not a df it's a series\n",
    "        usage_b = pandas_obj.memory_usage(deep=True)\n",
    "    usage_mb = usage_b / 1024 # convert bytes to KB\n",
    "    return \"{:03.1f} kB\".format(usage_mb)"
   ]
  },
  {
   "cell_type": "code",
   "execution_count": null,
   "metadata": {},
   "outputs": [],
   "source": [
    "# let's compare the memory usage when storing the DataFrame's 'Category' column as string vs category\n",
    "print(mem_usage(google_apps['Category']))\n",
    "print(mem_usage(google_apps['Category'].astype('category')))"
   ]
  },
  {
   "cell_type": "markdown",
   "metadata": {},
   "source": [
    "Converting the column to caterogicals enabled ~50x memory improvement with 0 information loss!"
   ]
  },
  {
   "cell_type": "markdown",
   "metadata": {},
   "source": [
    "### Pickling"
   ]
  },
  {
   "cell_type": "code",
   "execution_count": null,
   "metadata": {},
   "outputs": [],
   "source": [
    "# Apply the updates to the dataset before saving it\n",
    "updated_apps['Size'] = updated_apps.apply(lambda row: update_value_loop(row['Size']), axis=1)\n",
    "updated_apps['Price'] = update_price(updated_apps['Price'])"
   ]
  },
  {
   "cell_type": "code",
   "execution_count": null,
   "metadata": {},
   "outputs": [],
   "source": [
    "# Save the updated_apps dataset to pickle\n",
    "\n",
    "### CODE HERE ###\n"
   ]
  },
  {
   "cell_type": "code",
   "execution_count": null,
   "metadata": {},
   "outputs": [],
   "source": [
    "# Save the updated_apps dataset to pickle and compress it to bz2\n",
    "\n",
    "### CODE HERE ###\n"
   ]
  },
  {
   "cell_type": "code",
   "execution_count": null,
   "metadata": {},
   "outputs": [],
   "source": [
    "# Reload the compressed pickle file\n",
    "\n",
    "### CODE HERE ###\n"
   ]
  }
 ],
 "metadata": {
  "kernelspec": {
   "display_name": "Python 3",
   "language": "python",
   "name": "python3"
  },
  "language_info": {
   "codemirror_mode": {
    "name": "ipython",
    "version": 3
   },
   "file_extension": ".py",
   "mimetype": "text/x-python",
   "name": "python",
   "nbconvert_exporter": "python",
   "pygments_lexer": "ipython3",
   "version": "3.7.4"
  }
 },
 "nbformat": 4,
 "nbformat_minor": 2
}
